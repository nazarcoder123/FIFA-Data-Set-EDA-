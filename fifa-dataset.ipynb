{
 "cells": [
  {
   "cell_type": "code",
   "execution_count": 1,
   "id": "4d1beb6e",
   "metadata": {
    "execution": {
     "iopub.execute_input": "2022-12-10T19:31:00.572455Z",
     "iopub.status.busy": "2022-12-10T19:31:00.571929Z",
     "iopub.status.idle": "2022-12-10T19:31:01.300010Z",
     "shell.execute_reply": "2022-12-10T19:31:01.299271Z"
    },
    "papermill": {
     "duration": 0.740252,
     "end_time": "2022-12-10T19:31:01.302382",
     "exception": false,
     "start_time": "2022-12-10T19:31:00.562130",
     "status": "completed"
    },
    "tags": []
   },
   "outputs": [],
   "source": [
    "# This are the required libraries\n",
    "import pandas as pd\n",
    "import numpy as np\n",
    "import seaborn as sns\n",
    "from matplotlib import pyplot as plt"
   ]
  },
  {
   "cell_type": "code",
   "execution_count": 2,
   "id": "8d6ef29b",
   "metadata": {
    "execution": {
     "iopub.execute_input": "2022-12-10T19:31:01.318586Z",
     "iopub.status.busy": "2022-12-10T19:31:01.317966Z",
     "iopub.status.idle": "2022-12-10T19:31:01.617875Z",
     "shell.execute_reply": "2022-12-10T19:31:01.616913Z"
    },
    "papermill": {
     "duration": 0.309868,
     "end_time": "2022-12-10T19:31:01.619945",
     "exception": false,
     "start_time": "2022-12-10T19:31:01.310077",
     "status": "completed"
    },
    "tags": []
   },
   "outputs": [],
   "source": [
    "# importing of required file take place\n",
    "fifa=pd.read_csv(\"/kaggle/input/fifa-20-complete-player-dataset/players_20.csv\")"
   ]
  },
  {
   "cell_type": "code",
   "execution_count": 3,
   "id": "8966e44f",
   "metadata": {
    "execution": {
     "iopub.execute_input": "2022-12-10T19:31:01.636520Z",
     "iopub.status.busy": "2022-12-10T19:31:01.635686Z",
     "iopub.status.idle": "2022-12-10T19:31:01.662240Z",
     "shell.execute_reply": "2022-12-10T19:31:01.661593Z"
    },
    "papermill": {
     "duration": 0.03624,
     "end_time": "2022-12-10T19:31:01.663755",
     "exception": false,
     "start_time": "2022-12-10T19:31:01.627515",
     "status": "completed"
    },
    "tags": []
   },
   "outputs": [
    {
     "data": {
      "text/html": [
       "<div>\n",
       "<style scoped>\n",
       "    .dataframe tbody tr th:only-of-type {\n",
       "        vertical-align: middle;\n",
       "    }\n",
       "\n",
       "    .dataframe tbody tr th {\n",
       "        vertical-align: top;\n",
       "    }\n",
       "\n",
       "    .dataframe thead th {\n",
       "        text-align: right;\n",
       "    }\n",
       "</style>\n",
       "<table border=\"1\" class=\"dataframe\">\n",
       "  <thead>\n",
       "    <tr style=\"text-align: right;\">\n",
       "      <th></th>\n",
       "      <th>sofifa_id</th>\n",
       "      <th>player_url</th>\n",
       "      <th>short_name</th>\n",
       "      <th>long_name</th>\n",
       "      <th>age</th>\n",
       "      <th>dob</th>\n",
       "      <th>height_cm</th>\n",
       "      <th>weight_kg</th>\n",
       "      <th>nationality</th>\n",
       "      <th>club</th>\n",
       "      <th>...</th>\n",
       "      <th>lwb</th>\n",
       "      <th>ldm</th>\n",
       "      <th>cdm</th>\n",
       "      <th>rdm</th>\n",
       "      <th>rwb</th>\n",
       "      <th>lb</th>\n",
       "      <th>lcb</th>\n",
       "      <th>cb</th>\n",
       "      <th>rcb</th>\n",
       "      <th>rb</th>\n",
       "    </tr>\n",
       "  </thead>\n",
       "  <tbody>\n",
       "    <tr>\n",
       "      <th>0</th>\n",
       "      <td>158023</td>\n",
       "      <td>https://sofifa.com/player/158023/lionel-messi/...</td>\n",
       "      <td>L. Messi</td>\n",
       "      <td>Lionel Andrés Messi Cuccittini</td>\n",
       "      <td>32</td>\n",
       "      <td>1987-06-24</td>\n",
       "      <td>170</td>\n",
       "      <td>72</td>\n",
       "      <td>Argentina</td>\n",
       "      <td>FC Barcelona</td>\n",
       "      <td>...</td>\n",
       "      <td>68+2</td>\n",
       "      <td>66+2</td>\n",
       "      <td>66+2</td>\n",
       "      <td>66+2</td>\n",
       "      <td>68+2</td>\n",
       "      <td>63+2</td>\n",
       "      <td>52+2</td>\n",
       "      <td>52+2</td>\n",
       "      <td>52+2</td>\n",
       "      <td>63+2</td>\n",
       "    </tr>\n",
       "    <tr>\n",
       "      <th>1</th>\n",
       "      <td>20801</td>\n",
       "      <td>https://sofifa.com/player/20801/c-ronaldo-dos-...</td>\n",
       "      <td>Cristiano Ronaldo</td>\n",
       "      <td>Cristiano Ronaldo dos Santos Aveiro</td>\n",
       "      <td>34</td>\n",
       "      <td>1985-02-05</td>\n",
       "      <td>187</td>\n",
       "      <td>83</td>\n",
       "      <td>Portugal</td>\n",
       "      <td>Juventus</td>\n",
       "      <td>...</td>\n",
       "      <td>65+3</td>\n",
       "      <td>61+3</td>\n",
       "      <td>61+3</td>\n",
       "      <td>61+3</td>\n",
       "      <td>65+3</td>\n",
       "      <td>61+3</td>\n",
       "      <td>53+3</td>\n",
       "      <td>53+3</td>\n",
       "      <td>53+3</td>\n",
       "      <td>61+3</td>\n",
       "    </tr>\n",
       "    <tr>\n",
       "      <th>2</th>\n",
       "      <td>190871</td>\n",
       "      <td>https://sofifa.com/player/190871/neymar-da-sil...</td>\n",
       "      <td>Neymar Jr</td>\n",
       "      <td>Neymar da Silva Santos Junior</td>\n",
       "      <td>27</td>\n",
       "      <td>1992-02-05</td>\n",
       "      <td>175</td>\n",
       "      <td>68</td>\n",
       "      <td>Brazil</td>\n",
       "      <td>Paris Saint-Germain</td>\n",
       "      <td>...</td>\n",
       "      <td>66+3</td>\n",
       "      <td>61+3</td>\n",
       "      <td>61+3</td>\n",
       "      <td>61+3</td>\n",
       "      <td>66+3</td>\n",
       "      <td>61+3</td>\n",
       "      <td>46+3</td>\n",
       "      <td>46+3</td>\n",
       "      <td>46+3</td>\n",
       "      <td>61+3</td>\n",
       "    </tr>\n",
       "    <tr>\n",
       "      <th>3</th>\n",
       "      <td>200389</td>\n",
       "      <td>https://sofifa.com/player/200389/jan-oblak/20/...</td>\n",
       "      <td>J. Oblak</td>\n",
       "      <td>Jan Oblak</td>\n",
       "      <td>26</td>\n",
       "      <td>1993-01-07</td>\n",
       "      <td>188</td>\n",
       "      <td>87</td>\n",
       "      <td>Slovenia</td>\n",
       "      <td>Atlético Madrid</td>\n",
       "      <td>...</td>\n",
       "      <td>NaN</td>\n",
       "      <td>NaN</td>\n",
       "      <td>NaN</td>\n",
       "      <td>NaN</td>\n",
       "      <td>NaN</td>\n",
       "      <td>NaN</td>\n",
       "      <td>NaN</td>\n",
       "      <td>NaN</td>\n",
       "      <td>NaN</td>\n",
       "      <td>NaN</td>\n",
       "    </tr>\n",
       "    <tr>\n",
       "      <th>4</th>\n",
       "      <td>183277</td>\n",
       "      <td>https://sofifa.com/player/183277/eden-hazard/2...</td>\n",
       "      <td>E. Hazard</td>\n",
       "      <td>Eden Hazard</td>\n",
       "      <td>28</td>\n",
       "      <td>1991-01-07</td>\n",
       "      <td>175</td>\n",
       "      <td>74</td>\n",
       "      <td>Belgium</td>\n",
       "      <td>Real Madrid</td>\n",
       "      <td>...</td>\n",
       "      <td>66+3</td>\n",
       "      <td>63+3</td>\n",
       "      <td>63+3</td>\n",
       "      <td>63+3</td>\n",
       "      <td>66+3</td>\n",
       "      <td>61+3</td>\n",
       "      <td>49+3</td>\n",
       "      <td>49+3</td>\n",
       "      <td>49+3</td>\n",
       "      <td>61+3</td>\n",
       "    </tr>\n",
       "  </tbody>\n",
       "</table>\n",
       "<p>5 rows × 104 columns</p>\n",
       "</div>"
      ],
      "text/plain": [
       "   sofifa_id                                         player_url  \\\n",
       "0     158023  https://sofifa.com/player/158023/lionel-messi/...   \n",
       "1      20801  https://sofifa.com/player/20801/c-ronaldo-dos-...   \n",
       "2     190871  https://sofifa.com/player/190871/neymar-da-sil...   \n",
       "3     200389  https://sofifa.com/player/200389/jan-oblak/20/...   \n",
       "4     183277  https://sofifa.com/player/183277/eden-hazard/2...   \n",
       "\n",
       "          short_name                            long_name  age         dob  \\\n",
       "0           L. Messi       Lionel Andrés Messi Cuccittini   32  1987-06-24   \n",
       "1  Cristiano Ronaldo  Cristiano Ronaldo dos Santos Aveiro   34  1985-02-05   \n",
       "2          Neymar Jr        Neymar da Silva Santos Junior   27  1992-02-05   \n",
       "3           J. Oblak                            Jan Oblak   26  1993-01-07   \n",
       "4          E. Hazard                          Eden Hazard   28  1991-01-07   \n",
       "\n",
       "   height_cm  weight_kg nationality                 club  ...   lwb   ldm  \\\n",
       "0        170         72   Argentina         FC Barcelona  ...  68+2  66+2   \n",
       "1        187         83    Portugal             Juventus  ...  65+3  61+3   \n",
       "2        175         68      Brazil  Paris Saint-Germain  ...  66+3  61+3   \n",
       "3        188         87    Slovenia      Atlético Madrid  ...   NaN   NaN   \n",
       "4        175         74     Belgium          Real Madrid  ...  66+3  63+3   \n",
       "\n",
       "    cdm   rdm   rwb    lb   lcb    cb   rcb    rb  \n",
       "0  66+2  66+2  68+2  63+2  52+2  52+2  52+2  63+2  \n",
       "1  61+3  61+3  65+3  61+3  53+3  53+3  53+3  61+3  \n",
       "2  61+3  61+3  66+3  61+3  46+3  46+3  46+3  61+3  \n",
       "3   NaN   NaN   NaN   NaN   NaN   NaN   NaN   NaN  \n",
       "4  63+3  63+3  66+3  61+3  49+3  49+3  49+3  61+3  \n",
       "\n",
       "[5 rows x 104 columns]"
      ]
     },
     "execution_count": 3,
     "metadata": {},
     "output_type": "execute_result"
    }
   ],
   "source": [
    "# In this we chech the first five rows and column of the data\n",
    "fifa.head()"
   ]
  },
  {
   "cell_type": "code",
   "execution_count": 4,
   "id": "3e8cd0fe",
   "metadata": {
    "execution": {
     "iopub.execute_input": "2022-12-10T19:31:01.680421Z",
     "iopub.status.busy": "2022-12-10T19:31:01.679579Z",
     "iopub.status.idle": "2022-12-10T19:31:01.686378Z",
     "shell.execute_reply": "2022-12-10T19:31:01.685299Z"
    },
    "papermill": {
     "duration": 0.017099,
     "end_time": "2022-12-10T19:31:01.688442",
     "exception": false,
     "start_time": "2022-12-10T19:31:01.671343",
     "status": "completed"
    },
    "tags": []
   },
   "outputs": [
    {
     "name": "stdout",
     "output_type": "stream",
     "text": [
      "sofifa_id\n",
      "player_url\n",
      "short_name\n",
      "long_name\n",
      "age\n",
      "dob\n",
      "height_cm\n",
      "weight_kg\n",
      "nationality\n",
      "club\n",
      "overall\n",
      "potential\n",
      "value_eur\n",
      "wage_eur\n",
      "player_positions\n",
      "preferred_foot\n",
      "international_reputation\n",
      "weak_foot\n",
      "skill_moves\n",
      "work_rate\n",
      "body_type\n",
      "real_face\n",
      "release_clause_eur\n",
      "player_tags\n",
      "team_position\n",
      "team_jersey_number\n",
      "loaned_from\n",
      "joined\n",
      "contract_valid_until\n",
      "nation_position\n",
      "nation_jersey_number\n",
      "pace\n",
      "shooting\n",
      "passing\n",
      "dribbling\n",
      "defending\n",
      "physic\n",
      "gk_diving\n",
      "gk_handling\n",
      "gk_kicking\n",
      "gk_reflexes\n",
      "gk_speed\n",
      "gk_positioning\n",
      "player_traits\n",
      "attacking_crossing\n",
      "attacking_finishing\n",
      "attacking_heading_accuracy\n",
      "attacking_short_passing\n",
      "attacking_volleys\n",
      "skill_dribbling\n",
      "skill_curve\n",
      "skill_fk_accuracy\n",
      "skill_long_passing\n",
      "skill_ball_control\n",
      "movement_acceleration\n",
      "movement_sprint_speed\n",
      "movement_agility\n",
      "movement_reactions\n",
      "movement_balance\n",
      "power_shot_power\n",
      "power_jumping\n",
      "power_stamina\n",
      "power_strength\n",
      "power_long_shots\n",
      "mentality_aggression\n",
      "mentality_interceptions\n",
      "mentality_positioning\n",
      "mentality_vision\n",
      "mentality_penalties\n",
      "mentality_composure\n",
      "defending_marking\n",
      "defending_standing_tackle\n",
      "defending_sliding_tackle\n",
      "goalkeeping_diving\n",
      "goalkeeping_handling\n",
      "goalkeeping_kicking\n",
      "goalkeeping_positioning\n",
      "goalkeeping_reflexes\n",
      "ls\n",
      "st\n",
      "rs\n",
      "lw\n",
      "lf\n",
      "cf\n",
      "rf\n",
      "rw\n",
      "lam\n",
      "cam\n",
      "ram\n",
      "lm\n",
      "lcm\n",
      "cm\n",
      "rcm\n",
      "rm\n",
      "lwb\n",
      "ldm\n",
      "cdm\n",
      "rdm\n",
      "rwb\n",
      "lb\n",
      "lcb\n",
      "cb\n",
      "rcb\n",
      "rb\n"
     ]
    }
   ],
   "source": [
    "for col in fifa.columns:\n",
    "    print(col)"
   ]
  },
  {
   "cell_type": "code",
   "execution_count": 5,
   "id": "1e19233e",
   "metadata": {
    "execution": {
     "iopub.execute_input": "2022-12-10T19:31:01.706635Z",
     "iopub.status.busy": "2022-12-10T19:31:01.706381Z",
     "iopub.status.idle": "2022-12-10T19:31:01.711865Z",
     "shell.execute_reply": "2022-12-10T19:31:01.711095Z"
    },
    "papermill": {
     "duration": 0.015875,
     "end_time": "2022-12-10T19:31:01.713572",
     "exception": false,
     "start_time": "2022-12-10T19:31:01.697697",
     "status": "completed"
    },
    "tags": []
   },
   "outputs": [
    {
     "data": {
      "text/plain": [
       "(18278, 104)"
      ]
     },
     "execution_count": 5,
     "metadata": {},
     "output_type": "execute_result"
    }
   ],
   "source": [
    "fifa.shape"
   ]
  },
  {
   "cell_type": "code",
   "execution_count": 6,
   "id": "6cce7c82",
   "metadata": {
    "execution": {
     "iopub.execute_input": "2022-12-10T19:31:01.730344Z",
     "iopub.status.busy": "2022-12-10T19:31:01.730077Z",
     "iopub.status.idle": "2022-12-10T19:31:01.735320Z",
     "shell.execute_reply": "2022-12-10T19:31:01.734488Z"
    },
    "papermill": {
     "duration": 0.01548,
     "end_time": "2022-12-10T19:31:01.736967",
     "exception": false,
     "start_time": "2022-12-10T19:31:01.721487",
     "status": "completed"
    },
    "tags": []
   },
   "outputs": [
    {
     "data": {
      "text/plain": [
       "1900912"
      ]
     },
     "execution_count": 6,
     "metadata": {},
     "output_type": "execute_result"
    }
   ],
   "source": [
    "18278*104"
   ]
  },
  {
   "cell_type": "code",
   "execution_count": 7,
   "id": "8b92ed0b",
   "metadata": {
    "execution": {
     "iopub.execute_input": "2022-12-10T19:31:01.753571Z",
     "iopub.status.busy": "2022-12-10T19:31:01.753340Z",
     "iopub.status.idle": "2022-12-10T19:31:01.758963Z",
     "shell.execute_reply": "2022-12-10T19:31:01.757912Z"
    },
    "papermill": {
     "duration": 0.016041,
     "end_time": "2022-12-10T19:31:01.760875",
     "exception": false,
     "start_time": "2022-12-10T19:31:01.744834",
     "status": "completed"
    },
    "tags": []
   },
   "outputs": [
    {
     "data": {
      "text/plain": [
       "0.09120253857095963"
      ]
     },
     "execution_count": 7,
     "metadata": {},
     "output_type": "execute_result"
    }
   ],
   "source": [
    "1667/18278"
   ]
  },
  {
   "cell_type": "code",
   "execution_count": 8,
   "id": "cd4402fc",
   "metadata": {
    "execution": {
     "iopub.execute_input": "2022-12-10T19:31:01.778495Z",
     "iopub.status.busy": "2022-12-10T19:31:01.778217Z",
     "iopub.status.idle": "2022-12-10T19:31:01.789688Z",
     "shell.execute_reply": "2022-12-10T19:31:01.788951Z"
    },
    "papermill": {
     "duration": 0.021783,
     "end_time": "2022-12-10T19:31:01.791153",
     "exception": false,
     "start_time": "2022-12-10T19:31:01.769370",
     "status": "completed"
    },
    "tags": []
   },
   "outputs": [
    {
     "data": {
      "text/plain": [
       "England                1667\n",
       "Germany                1216\n",
       "Spain                  1035\n",
       "France                  984\n",
       "Argentina               886\n",
       "                       ... \n",
       "Liberia                   1\n",
       "São Tomé & Príncipe       1\n",
       "Puerto Rico               1\n",
       "Bahrain                   1\n",
       "Indonesia                 1\n",
       "Name: nationality, Length: 162, dtype: int64"
      ]
     },
     "execution_count": 8,
     "metadata": {},
     "output_type": "execute_result"
    }
   ],
   "source": [
    "fifa['nationality'].value_counts()"
   ]
  },
  {
   "cell_type": "code",
   "execution_count": 9,
   "id": "9b12a31e",
   "metadata": {
    "execution": {
     "iopub.execute_input": "2022-12-10T19:31:01.808334Z",
     "iopub.status.busy": "2022-12-10T19:31:01.808108Z",
     "iopub.status.idle": "2022-12-10T19:31:01.814965Z",
     "shell.execute_reply": "2022-12-10T19:31:01.814419Z"
    },
    "papermill": {
     "duration": 0.01726,
     "end_time": "2022-12-10T19:31:01.816542",
     "exception": false,
     "start_time": "2022-12-10T19:31:01.799282",
     "status": "completed"
    },
    "tags": []
   },
   "outputs": [
    {
     "data": {
      "text/plain": [
       "England        1667\n",
       "Germany        1216\n",
       "Spain          1035\n",
       "France          984\n",
       "Argentina       886\n",
       "Brazil          824\n",
       "Italy           732\n",
       "Colombia        591\n",
       "Japan           453\n",
       "Netherlands     416\n",
       "Name: nationality, dtype: int64"
      ]
     },
     "execution_count": 9,
     "metadata": {},
     "output_type": "execute_result"
    }
   ],
   "source": [
    "fifa['nationality'].value_counts()[0:10]"
   ]
  },
  {
   "cell_type": "code",
   "execution_count": 10,
   "id": "07c97e4a",
   "metadata": {
    "execution": {
     "iopub.execute_input": "2022-12-10T19:31:01.834767Z",
     "iopub.status.busy": "2022-12-10T19:31:01.834458Z",
     "iopub.status.idle": "2022-12-10T19:31:01.841541Z",
     "shell.execute_reply": "2022-12-10T19:31:01.840761Z"
    },
    "papermill": {
     "duration": 0.018437,
     "end_time": "2022-12-10T19:31:01.843119",
     "exception": false,
     "start_time": "2022-12-10T19:31:01.824682",
     "status": "completed"
    },
    "tags": []
   },
   "outputs": [
    {
     "data": {
      "text/plain": [
       "Index(['England', 'Germany', 'Spain', 'France', 'Argentina'], dtype='object')"
      ]
     },
     "execution_count": 10,
     "metadata": {},
     "output_type": "execute_result"
    }
   ],
   "source": [
    "fifa['nationality'].value_counts()[0:5].keys()"
   ]
  },
  {
   "cell_type": "code",
   "execution_count": 11,
   "id": "9da58d97",
   "metadata": {
    "execution": {
     "iopub.execute_input": "2022-12-10T19:31:01.860713Z",
     "iopub.status.busy": "2022-12-10T19:31:01.860483Z",
     "iopub.status.idle": "2022-12-10T19:31:01.867589Z",
     "shell.execute_reply": "2022-12-10T19:31:01.866816Z"
    },
    "papermill": {
     "duration": 0.017647,
     "end_time": "2022-12-10T19:31:01.869231",
     "exception": false,
     "start_time": "2022-12-10T19:31:01.851584",
     "status": "completed"
    },
    "tags": []
   },
   "outputs": [
    {
     "data": {
      "text/plain": [
       "England      1667\n",
       "Germany      1216\n",
       "Spain        1035\n",
       "France        984\n",
       "Argentina     886\n",
       "Name: nationality, dtype: int64"
      ]
     },
     "execution_count": 11,
     "metadata": {},
     "output_type": "execute_result"
    }
   ],
   "source": [
    "fifa['nationality'].value_counts()[0:5]"
   ]
  },
  {
   "cell_type": "code",
   "execution_count": 12,
   "id": "c2bf2153",
   "metadata": {
    "execution": {
     "iopub.execute_input": "2022-12-10T19:31:01.886746Z",
     "iopub.status.busy": "2022-12-10T19:31:01.886473Z",
     "iopub.status.idle": "2022-12-10T19:31:02.028437Z",
     "shell.execute_reply": "2022-12-10T19:31:02.027533Z"
    },
    "papermill": {
     "duration": 0.152823,
     "end_time": "2022-12-10T19:31:02.030338",
     "exception": false,
     "start_time": "2022-12-10T19:31:01.877515",
     "status": "completed"
    },
    "tags": []
   },
   "outputs": [
    {
     "data": {
      "text/plain": [
       "<BarContainer object of 5 artists>"
      ]
     },
     "execution_count": 12,
     "metadata": {},
     "output_type": "execute_result"
    },
    {
     "data": {
      "image/png": "[encoded data removed]",
      "text/plain": [
       "<Figure size 360x360 with 1 Axes>"
      ]
     },
     "metadata": {
      "needs_background": "light"
     },
     "output_type": "display_data"
    }
   ],
   "source": [
    "plt.figure(figsize=(5,5))\n",
    "plt.bar(list(fifa['nationality'].value_counts()[0:5].keys()),list(fifa['nationality'].value_counts()[0:5]),color=\"g\")"
   ]
  },
  {
   "cell_type": "code",
   "execution_count": 13,
   "id": "fca23912",
   "metadata": {
    "execution": {
     "iopub.execute_input": "2022-12-10T19:31:02.049124Z",
     "iopub.status.busy": "2022-12-10T19:31:02.048841Z",
     "iopub.status.idle": "2022-12-10T19:31:02.054260Z",
     "shell.execute_reply": "2022-12-10T19:31:02.053451Z"
    },
    "papermill": {
     "duration": 0.01676,
     "end_time": "2022-12-10T19:31:02.056149",
     "exception": false,
     "start_time": "2022-12-10T19:31:02.039389",
     "status": "completed"
    },
    "tags": []
   },
   "outputs": [],
   "source": [
    "player_salary=fifa[['short_name','wage_eur']]"
   ]
  },
  {
   "cell_type": "code",
   "execution_count": 14,
   "id": "28d556a9",
   "metadata": {
    "execution": {
     "iopub.execute_input": "2022-12-10T19:31:02.074417Z",
     "iopub.status.busy": "2022-12-10T19:31:02.074165Z",
     "iopub.status.idle": "2022-12-10T19:31:02.081450Z",
     "shell.execute_reply": "2022-12-10T19:31:02.080854Z"
    },
    "papermill": {
     "duration": 0.018181,
     "end_time": "2022-12-10T19:31:02.083016",
     "exception": false,
     "start_time": "2022-12-10T19:31:02.064835",
     "status": "completed"
    },
    "tags": []
   },
   "outputs": [
    {
     "data": {
      "text/html": [
       "<div>\n",
       "<style scoped>\n",
       "    .dataframe tbody tr th:only-of-type {\n",
       "        vertical-align: middle;\n",
       "    }\n",
       "\n",
       "    .dataframe tbody tr th {\n",
       "        vertical-align: top;\n",
       "    }\n",
       "\n",
       "    .dataframe thead th {\n",
       "        text-align: right;\n",
       "    }\n",
       "</style>\n",
       "<table border=\"1\" class=\"dataframe\">\n",
       "  <thead>\n",
       "    <tr style=\"text-align: right;\">\n",
       "      <th></th>\n",
       "      <th>short_name</th>\n",
       "      <th>wage_eur</th>\n",
       "    </tr>\n",
       "  </thead>\n",
       "  <tbody>\n",
       "    <tr>\n",
       "      <th>0</th>\n",
       "      <td>L. Messi</td>\n",
       "      <td>565000</td>\n",
       "    </tr>\n",
       "    <tr>\n",
       "      <th>1</th>\n",
       "      <td>Cristiano Ronaldo</td>\n",
       "      <td>405000</td>\n",
       "    </tr>\n",
       "    <tr>\n",
       "      <th>2</th>\n",
       "      <td>Neymar Jr</td>\n",
       "      <td>290000</td>\n",
       "    </tr>\n",
       "    <tr>\n",
       "      <th>3</th>\n",
       "      <td>J. Oblak</td>\n",
       "      <td>125000</td>\n",
       "    </tr>\n",
       "    <tr>\n",
       "      <th>4</th>\n",
       "      <td>E. Hazard</td>\n",
       "      <td>470000</td>\n",
       "    </tr>\n",
       "  </tbody>\n",
       "</table>\n",
       "</div>"
      ],
      "text/plain": [
       "          short_name  wage_eur\n",
       "0           L. Messi    565000\n",
       "1  Cristiano Ronaldo    405000\n",
       "2          Neymar Jr    290000\n",
       "3           J. Oblak    125000\n",
       "4          E. Hazard    470000"
      ]
     },
     "execution_count": 14,
     "metadata": {},
     "output_type": "execute_result"
    }
   ],
   "source": [
    "player_salary.head()"
   ]
  },
  {
   "cell_type": "code",
   "execution_count": 15,
   "id": "95e3c2fd",
   "metadata": {
    "execution": {
     "iopub.execute_input": "2022-12-10T19:31:02.101665Z",
     "iopub.status.busy": "2022-12-10T19:31:02.101207Z",
     "iopub.status.idle": "2022-12-10T19:31:02.106825Z",
     "shell.execute_reply": "2022-12-10T19:31:02.106247Z"
    },
    "papermill": {
     "duration": 0.017142,
     "end_time": "2022-12-10T19:31:02.108815",
     "exception": false,
     "start_time": "2022-12-10T19:31:02.091673",
     "status": "completed"
    },
    "tags": []
   },
   "outputs": [],
   "source": [
    "player_salary=player_salary.sort_values(by=['wage_eur'],ascending=False)"
   ]
  },
  {
   "cell_type": "code",
   "execution_count": 16,
   "id": "4026c156",
   "metadata": {
    "execution": {
     "iopub.execute_input": "2022-12-10T19:31:02.128349Z",
     "iopub.status.busy": "2022-12-10T19:31:02.127902Z",
     "iopub.status.idle": "2022-12-10T19:31:02.134828Z",
     "shell.execute_reply": "2022-12-10T19:31:02.134287Z"
    },
    "papermill": {
     "duration": 0.017892,
     "end_time": "2022-12-10T19:31:02.136345",
     "exception": false,
     "start_time": "2022-12-10T19:31:02.118453",
     "status": "completed"
    },
    "tags": []
   },
   "outputs": [
    {
     "data": {
      "text/html": [
       "<div>\n",
       "<style scoped>\n",
       "    .dataframe tbody tr th:only-of-type {\n",
       "        vertical-align: middle;\n",
       "    }\n",
       "\n",
       "    .dataframe tbody tr th {\n",
       "        vertical-align: top;\n",
       "    }\n",
       "\n",
       "    .dataframe thead th {\n",
       "        text-align: right;\n",
       "    }\n",
       "</style>\n",
       "<table border=\"1\" class=\"dataframe\">\n",
       "  <thead>\n",
       "    <tr style=\"text-align: right;\">\n",
       "      <th></th>\n",
       "      <th>short_name</th>\n",
       "      <th>wage_eur</th>\n",
       "    </tr>\n",
       "  </thead>\n",
       "  <tbody>\n",
       "    <tr>\n",
       "      <th>0</th>\n",
       "      <td>L. Messi</td>\n",
       "      <td>565000</td>\n",
       "    </tr>\n",
       "    <tr>\n",
       "      <th>4</th>\n",
       "      <td>E. Hazard</td>\n",
       "      <td>470000</td>\n",
       "    </tr>\n",
       "    <tr>\n",
       "      <th>1</th>\n",
       "      <td>Cristiano Ronaldo</td>\n",
       "      <td>405000</td>\n",
       "    </tr>\n",
       "    <tr>\n",
       "      <th>5</th>\n",
       "      <td>K. De Bruyne</td>\n",
       "      <td>370000</td>\n",
       "    </tr>\n",
       "    <tr>\n",
       "      <th>22</th>\n",
       "      <td>A. Griezmann</td>\n",
       "      <td>370000</td>\n",
       "    </tr>\n",
       "  </tbody>\n",
       "</table>\n",
       "</div>"
      ],
      "text/plain": [
       "           short_name  wage_eur\n",
       "0            L. Messi    565000\n",
       "4           E. Hazard    470000\n",
       "1   Cristiano Ronaldo    405000\n",
       "5        K. De Bruyne    370000\n",
       "22       A. Griezmann    370000"
      ]
     },
     "execution_count": 16,
     "metadata": {},
     "output_type": "execute_result"
    }
   ],
   "source": [
    "player_salary.head()"
   ]
  },
  {
   "cell_type": "code",
   "execution_count": 17,
   "id": "effb1713",
   "metadata": {
    "execution": {
     "iopub.execute_input": "2022-12-10T19:31:02.155100Z",
     "iopub.status.busy": "2022-12-10T19:31:02.154700Z",
     "iopub.status.idle": "2022-12-10T19:31:02.159759Z",
     "shell.execute_reply": "2022-12-10T19:31:02.158985Z"
    },
    "papermill": {
     "duration": 0.01636,
     "end_time": "2022-12-10T19:31:02.161621",
     "exception": false,
     "start_time": "2022-12-10T19:31:02.145261",
     "status": "completed"
    },
    "tags": []
   },
   "outputs": [],
   "source": [
    "player_salary=player_salary.sort_values(by=['wage_eur'],ascending=False)"
   ]
  },
  {
   "cell_type": "code",
   "execution_count": 18,
   "id": "62de9e58",
   "metadata": {
    "execution": {
     "iopub.execute_input": "2022-12-10T19:31:02.181102Z",
     "iopub.status.busy": "2022-12-10T19:31:02.180566Z",
     "iopub.status.idle": "2022-12-10T19:31:02.189321Z",
     "shell.execute_reply": "2022-12-10T19:31:02.188501Z"
    },
    "papermill": {
     "duration": 0.020098,
     "end_time": "2022-12-10T19:31:02.190899",
     "exception": false,
     "start_time": "2022-12-10T19:31:02.170801",
     "status": "completed"
    },
    "tags": []
   },
   "outputs": [
    {
     "data": {
      "text/html": [
       "<div>\n",
       "<style scoped>\n",
       "    .dataframe tbody tr th:only-of-type {\n",
       "        vertical-align: middle;\n",
       "    }\n",
       "\n",
       "    .dataframe tbody tr th {\n",
       "        vertical-align: top;\n",
       "    }\n",
       "\n",
       "    .dataframe thead th {\n",
       "        text-align: right;\n",
       "    }\n",
       "</style>\n",
       "<table border=\"1\" class=\"dataframe\">\n",
       "  <thead>\n",
       "    <tr style=\"text-align: right;\">\n",
       "      <th></th>\n",
       "      <th>short_name</th>\n",
       "      <th>wage_eur</th>\n",
       "    </tr>\n",
       "  </thead>\n",
       "  <tbody>\n",
       "    <tr>\n",
       "      <th>0</th>\n",
       "      <td>L. Messi</td>\n",
       "      <td>565000</td>\n",
       "    </tr>\n",
       "    <tr>\n",
       "      <th>4</th>\n",
       "      <td>E. Hazard</td>\n",
       "      <td>470000</td>\n",
       "    </tr>\n",
       "    <tr>\n",
       "      <th>1</th>\n",
       "      <td>Cristiano Ronaldo</td>\n",
       "      <td>405000</td>\n",
       "    </tr>\n",
       "    <tr>\n",
       "      <th>22</th>\n",
       "      <td>A. Griezmann</td>\n",
       "      <td>370000</td>\n",
       "    </tr>\n",
       "    <tr>\n",
       "      <th>5</th>\n",
       "      <td>K. De Bruyne</td>\n",
       "      <td>370000</td>\n",
       "    </tr>\n",
       "  </tbody>\n",
       "</table>\n",
       "</div>"
      ],
      "text/plain": [
       "           short_name  wage_eur\n",
       "0            L. Messi    565000\n",
       "4           E. Hazard    470000\n",
       "1   Cristiano Ronaldo    405000\n",
       "22       A. Griezmann    370000\n",
       "5        K. De Bruyne    370000"
      ]
     },
     "execution_count": 18,
     "metadata": {},
     "output_type": "execute_result"
    }
   ],
   "source": [
    "player_salary.head()"
   ]
  },
  {
   "cell_type": "code",
   "execution_count": 19,
   "id": "4191f290",
   "metadata": {
    "execution": {
     "iopub.execute_input": "2022-12-10T19:31:02.209996Z",
     "iopub.status.busy": "2022-12-10T19:31:02.209620Z",
     "iopub.status.idle": "2022-12-10T19:31:02.308574Z",
     "shell.execute_reply": "2022-12-10T19:31:02.307552Z"
    },
    "papermill": {
     "duration": 0.110445,
     "end_time": "2022-12-10T19:31:02.310368",
     "exception": false,
     "start_time": "2022-12-10T19:31:02.199923",
     "status": "completed"
    },
    "tags": []
   },
   "outputs": [
    {
     "data": {
      "image/png": "[encoded data removed]",
      "text/plain": [
       "<Figure size 576x360 with 1 Axes>"
      ]
     },
     "metadata": {
      "needs_background": "light"
     },
     "output_type": "display_data"
    }
   ],
   "source": [
    "plt.figure(figsize=(8,5))\n",
    "plt.bar(list(player_salary['short_name'])[0:5],list(player_salary['wage_eur'])[0:5],color=[\"blue\",\"green\",\"pink\",\"orange\"])\n",
    "plt.show()"
   ]
  },
  {
   "cell_type": "code",
   "execution_count": 20,
   "id": "c6a6490f",
   "metadata": {
    "execution": {
     "iopub.execute_input": "2022-12-10T19:31:02.330549Z",
     "iopub.status.busy": "2022-12-10T19:31:02.330087Z",
     "iopub.status.idle": "2022-12-10T19:31:02.337654Z",
     "shell.execute_reply": "2022-12-10T19:31:02.337087Z"
    },
    "papermill": {
     "duration": 0.019384,
     "end_time": "2022-12-10T19:31:02.339288",
     "exception": false,
     "start_time": "2022-12-10T19:31:02.319904",
     "status": "completed"
    },
    "tags": []
   },
   "outputs": [
    {
     "data": {
      "text/plain": [
       "0        False\n",
       "1        False\n",
       "2        False\n",
       "3        False\n",
       "4        False\n",
       "         ...  \n",
       "18273    False\n",
       "18274    False\n",
       "18275    False\n",
       "18276    False\n",
       "18277    False\n",
       "Name: nationality, Length: 18278, dtype: bool"
      ]
     },
     "execution_count": 20,
     "metadata": {},
     "output_type": "execute_result"
    }
   ],
   "source": [
    "fifa['nationality']=='germany'"
   ]
  },
  {
   "cell_type": "code",
   "execution_count": 21,
   "id": "7a330942",
   "metadata": {
    "execution": {
     "iopub.execute_input": "2022-12-10T19:31:02.359220Z",
     "iopub.status.busy": "2022-12-10T19:31:02.358804Z",
     "iopub.status.idle": "2022-12-10T19:31:02.373506Z",
     "shell.execute_reply": "2022-12-10T19:31:02.372891Z"
    },
    "papermill": {
     "duration": 0.026474,
     "end_time": "2022-12-10T19:31:02.375109",
     "exception": false,
     "start_time": "2022-12-10T19:31:02.348635",
     "status": "completed"
    },
    "tags": []
   },
   "outputs": [
    {
     "data": {
      "text/html": [
       "<div>\n",
       "<style scoped>\n",
       "    .dataframe tbody tr th:only-of-type {\n",
       "        vertical-align: middle;\n",
       "    }\n",
       "\n",
       "    .dataframe tbody tr th {\n",
       "        vertical-align: top;\n",
       "    }\n",
       "\n",
       "    .dataframe thead th {\n",
       "        text-align: right;\n",
       "    }\n",
       "</style>\n",
       "<table border=\"1\" class=\"dataframe\">\n",
       "  <thead>\n",
       "    <tr style=\"text-align: right;\">\n",
       "      <th></th>\n",
       "      <th>sofifa_id</th>\n",
       "      <th>player_url</th>\n",
       "      <th>short_name</th>\n",
       "      <th>long_name</th>\n",
       "      <th>age</th>\n",
       "      <th>dob</th>\n",
       "      <th>height_cm</th>\n",
       "      <th>weight_kg</th>\n",
       "      <th>nationality</th>\n",
       "      <th>club</th>\n",
       "      <th>...</th>\n",
       "      <th>lwb</th>\n",
       "      <th>ldm</th>\n",
       "      <th>cdm</th>\n",
       "      <th>rdm</th>\n",
       "      <th>rwb</th>\n",
       "      <th>lb</th>\n",
       "      <th>lcb</th>\n",
       "      <th>cb</th>\n",
       "      <th>rcb</th>\n",
       "      <th>rb</th>\n",
       "    </tr>\n",
       "  </thead>\n",
       "  <tbody>\n",
       "  </tbody>\n",
       "</table>\n",
       "<p>0 rows × 104 columns</p>\n",
       "</div>"
      ],
      "text/plain": [
       "Empty DataFrame\n",
       "Columns: [sofifa_id, player_url, short_name, long_name, age, dob, height_cm, weight_kg, nationality, club, overall, potential, value_eur, wage_eur, player_positions, preferred_foot, international_reputation, weak_foot, skill_moves, work_rate, body_type, real_face, release_clause_eur, player_tags, team_position, team_jersey_number, loaned_from, joined, contract_valid_until, nation_position, nation_jersey_number, pace, shooting, passing, dribbling, defending, physic, gk_diving, gk_handling, gk_kicking, gk_reflexes, gk_speed, gk_positioning, player_traits, attacking_crossing, attacking_finishing, attacking_heading_accuracy, attacking_short_passing, attacking_volleys, skill_dribbling, skill_curve, skill_fk_accuracy, skill_long_passing, skill_ball_control, movement_acceleration, movement_sprint_speed, movement_agility, movement_reactions, movement_balance, power_shot_power, power_jumping, power_stamina, power_strength, power_long_shots, mentality_aggression, mentality_interceptions, mentality_positioning, mentality_vision, mentality_penalties, mentality_composure, defending_marking, defending_standing_tackle, defending_sliding_tackle, goalkeeping_diving, goalkeeping_handling, goalkeeping_kicking, goalkeeping_positioning, goalkeeping_reflexes, ls, st, rs, lw, lf, cf, rf, rw, lam, cam, ram, lm, lcm, cm, rcm, rm, lwb, ldm, cdm, rdm, rwb, lb, ...]\n",
       "Index: []\n",
       "\n",
       "[0 rows x 104 columns]"
      ]
     },
     "execution_count": 21,
     "metadata": {},
     "output_type": "execute_result"
    }
   ],
   "source": [
    "#Germany\n",
    "germany=fifa[fifa['nationality']=='germany']\n",
    "germany.head(10)"
   ]
  },
  {
   "cell_type": "code",
   "execution_count": 22,
   "id": "0b535885",
   "metadata": {
    "execution": {
     "iopub.execute_input": "2022-12-10T19:31:02.395297Z",
     "iopub.status.busy": "2022-12-10T19:31:02.394728Z",
     "iopub.status.idle": "2022-12-10T19:31:02.406854Z",
     "shell.execute_reply": "2022-12-10T19:31:02.406276Z"
    },
    "papermill": {
     "duration": 0.024432,
     "end_time": "2022-12-10T19:31:02.408958",
     "exception": false,
     "start_time": "2022-12-10T19:31:02.384526",
     "status": "completed"
    },
    "tags": []
   },
   "outputs": [
    {
     "data": {
      "text/html": [
       "<div>\n",
       "<style scoped>\n",
       "    .dataframe tbody tr th:only-of-type {\n",
       "        vertical-align: middle;\n",
       "    }\n",
       "\n",
       "    .dataframe tbody tr th {\n",
       "        vertical-align: top;\n",
       "    }\n",
       "\n",
       "    .dataframe thead th {\n",
       "        text-align: right;\n",
       "    }\n",
       "</style>\n",
       "<table border=\"1\" class=\"dataframe\">\n",
       "  <thead>\n",
       "    <tr style=\"text-align: right;\">\n",
       "      <th></th>\n",
       "      <th>sofifa_id</th>\n",
       "      <th>player_url</th>\n",
       "      <th>short_name</th>\n",
       "      <th>long_name</th>\n",
       "      <th>age</th>\n",
       "      <th>dob</th>\n",
       "      <th>height_cm</th>\n",
       "      <th>weight_kg</th>\n",
       "      <th>nationality</th>\n",
       "      <th>club</th>\n",
       "      <th>...</th>\n",
       "      <th>lwb</th>\n",
       "      <th>ldm</th>\n",
       "      <th>cdm</th>\n",
       "      <th>rdm</th>\n",
       "      <th>rwb</th>\n",
       "      <th>lb</th>\n",
       "      <th>lcb</th>\n",
       "      <th>cb</th>\n",
       "      <th>rcb</th>\n",
       "      <th>rb</th>\n",
       "    </tr>\n",
       "  </thead>\n",
       "  <tbody>\n",
       "  </tbody>\n",
       "</table>\n",
       "<p>0 rows × 104 columns</p>\n",
       "</div>"
      ],
      "text/plain": [
       "Empty DataFrame\n",
       "Columns: [sofifa_id, player_url, short_name, long_name, age, dob, height_cm, weight_kg, nationality, club, overall, potential, value_eur, wage_eur, player_positions, preferred_foot, international_reputation, weak_foot, skill_moves, work_rate, body_type, real_face, release_clause_eur, player_tags, team_position, team_jersey_number, loaned_from, joined, contract_valid_until, nation_position, nation_jersey_number, pace, shooting, passing, dribbling, defending, physic, gk_diving, gk_handling, gk_kicking, gk_reflexes, gk_speed, gk_positioning, player_traits, attacking_crossing, attacking_finishing, attacking_heading_accuracy, attacking_short_passing, attacking_volleys, skill_dribbling, skill_curve, skill_fk_accuracy, skill_long_passing, skill_ball_control, movement_acceleration, movement_sprint_speed, movement_agility, movement_reactions, movement_balance, power_shot_power, power_jumping, power_stamina, power_strength, power_long_shots, mentality_aggression, mentality_interceptions, mentality_positioning, mentality_vision, mentality_penalties, mentality_composure, defending_marking, defending_standing_tackle, defending_sliding_tackle, goalkeeping_diving, goalkeeping_handling, goalkeeping_kicking, goalkeeping_positioning, goalkeeping_reflexes, ls, st, rs, lw, lf, cf, rf, rw, lam, cam, ram, lm, lcm, cm, rcm, rm, lwb, ldm, cdm, rdm, rwb, lb, ...]\n",
       "Index: []\n",
       "\n",
       "[0 rows x 104 columns]"
      ]
     },
     "execution_count": 22,
     "metadata": {},
     "output_type": "execute_result"
    }
   ],
   "source": [
    "germany.sort_values(by=['height_cm'],ascending=False).head()"
   ]
  },
  {
   "cell_type": "code",
   "execution_count": 23,
   "id": "e9ad0808",
   "metadata": {
    "execution": {
     "iopub.execute_input": "2022-12-10T19:31:02.430787Z",
     "iopub.status.busy": "2022-12-10T19:31:02.430226Z",
     "iopub.status.idle": "2022-12-10T19:31:02.443785Z",
     "shell.execute_reply": "2022-12-10T19:31:02.442969Z"
    },
    "papermill": {
     "duration": 0.026081,
     "end_time": "2022-12-10T19:31:02.445496",
     "exception": false,
     "start_time": "2022-12-10T19:31:02.419415",
     "status": "completed"
    },
    "tags": []
   },
   "outputs": [
    {
     "data": {
      "text/html": [
       "<div>\n",
       "<style scoped>\n",
       "    .dataframe tbody tr th:only-of-type {\n",
       "        vertical-align: middle;\n",
       "    }\n",
       "\n",
       "    .dataframe tbody tr th {\n",
       "        vertical-align: top;\n",
       "    }\n",
       "\n",
       "    .dataframe thead th {\n",
       "        text-align: right;\n",
       "    }\n",
       "</style>\n",
       "<table border=\"1\" class=\"dataframe\">\n",
       "  <thead>\n",
       "    <tr style=\"text-align: right;\">\n",
       "      <th></th>\n",
       "      <th>sofifa_id</th>\n",
       "      <th>player_url</th>\n",
       "      <th>short_name</th>\n",
       "      <th>long_name</th>\n",
       "      <th>age</th>\n",
       "      <th>dob</th>\n",
       "      <th>height_cm</th>\n",
       "      <th>weight_kg</th>\n",
       "      <th>nationality</th>\n",
       "      <th>club</th>\n",
       "      <th>...</th>\n",
       "      <th>lwb</th>\n",
       "      <th>ldm</th>\n",
       "      <th>cdm</th>\n",
       "      <th>rdm</th>\n",
       "      <th>rwb</th>\n",
       "      <th>lb</th>\n",
       "      <th>lcb</th>\n",
       "      <th>cb</th>\n",
       "      <th>rcb</th>\n",
       "      <th>rb</th>\n",
       "    </tr>\n",
       "  </thead>\n",
       "  <tbody>\n",
       "  </tbody>\n",
       "</table>\n",
       "<p>0 rows × 104 columns</p>\n",
       "</div>"
      ],
      "text/plain": [
       "Empty DataFrame\n",
       "Columns: [sofifa_id, player_url, short_name, long_name, age, dob, height_cm, weight_kg, nationality, club, overall, potential, value_eur, wage_eur, player_positions, preferred_foot, international_reputation, weak_foot, skill_moves, work_rate, body_type, real_face, release_clause_eur, player_tags, team_position, team_jersey_number, loaned_from, joined, contract_valid_until, nation_position, nation_jersey_number, pace, shooting, passing, dribbling, defending, physic, gk_diving, gk_handling, gk_kicking, gk_reflexes, gk_speed, gk_positioning, player_traits, attacking_crossing, attacking_finishing, attacking_heading_accuracy, attacking_short_passing, attacking_volleys, skill_dribbling, skill_curve, skill_fk_accuracy, skill_long_passing, skill_ball_control, movement_acceleration, movement_sprint_speed, movement_agility, movement_reactions, movement_balance, power_shot_power, power_jumping, power_stamina, power_strength, power_long_shots, mentality_aggression, mentality_interceptions, mentality_positioning, mentality_vision, mentality_penalties, mentality_composure, defending_marking, defending_standing_tackle, defending_sliding_tackle, goalkeeping_diving, goalkeeping_handling, goalkeeping_kicking, goalkeeping_positioning, goalkeeping_reflexes, ls, st, rs, lw, lf, cf, rf, rw, lam, cam, ram, lm, lcm, cm, rcm, rm, lwb, ldm, cdm, rdm, rwb, lb, ...]\n",
       "Index: []\n",
       "\n",
       "[0 rows x 104 columns]"
      ]
     },
     "execution_count": 23,
     "metadata": {},
     "output_type": "execute_result"
    }
   ],
   "source": [
    "germany.sort_values(by=['weight_kg'],ascending=False).head()"
   ]
  },
  {
   "cell_type": "code",
   "execution_count": 24,
   "id": "a6bc5400",
   "metadata": {
    "execution": {
     "iopub.execute_input": "2022-12-10T19:31:02.466472Z",
     "iopub.status.busy": "2022-12-10T19:31:02.466224Z",
     "iopub.status.idle": "2022-12-10T19:31:02.473845Z",
     "shell.execute_reply": "2022-12-10T19:31:02.473051Z"
    },
    "papermill": {
     "duration": 0.020104,
     "end_time": "2022-12-10T19:31:02.475600",
     "exception": false,
     "start_time": "2022-12-10T19:31:02.455496",
     "status": "completed"
    },
    "tags": []
   },
   "outputs": [
    {
     "data": {
      "text/html": [
       "<div>\n",
       "<style scoped>\n",
       "    .dataframe tbody tr th:only-of-type {\n",
       "        vertical-align: middle;\n",
       "    }\n",
       "\n",
       "    .dataframe tbody tr th {\n",
       "        vertical-align: top;\n",
       "    }\n",
       "\n",
       "    .dataframe thead th {\n",
       "        text-align: right;\n",
       "    }\n",
       "</style>\n",
       "<table border=\"1\" class=\"dataframe\">\n",
       "  <thead>\n",
       "    <tr style=\"text-align: right;\">\n",
       "      <th></th>\n",
       "      <th>short_name</th>\n",
       "      <th>wage_eur</th>\n",
       "    </tr>\n",
       "  </thead>\n",
       "  <tbody>\n",
       "  </tbody>\n",
       "</table>\n",
       "</div>"
      ],
      "text/plain": [
       "Empty DataFrame\n",
       "Columns: [short_name, wage_eur]\n",
       "Index: []"
      ]
     },
     "execution_count": 24,
     "metadata": {},
     "output_type": "execute_result"
    }
   ],
   "source": [
    "germany[['short_name','wage_eur']].sort_values(by=['wage_eur'],ascending=False).head()"
   ]
  },
  {
   "cell_type": "code",
   "execution_count": 25,
   "id": "0e7b4f99",
   "metadata": {
    "execution": {
     "iopub.execute_input": "2022-12-10T19:31:02.496472Z",
     "iopub.status.busy": "2022-12-10T19:31:02.496242Z",
     "iopub.status.idle": "2022-12-10T19:31:02.499239Z",
     "shell.execute_reply": "2022-12-10T19:31:02.498463Z"
    },
    "papermill": {
     "duration": 0.015308,
     "end_time": "2022-12-10T19:31:02.500880",
     "exception": false,
     "start_time": "2022-12-10T19:31:02.485572",
     "status": "completed"
    },
    "tags": []
   },
   "outputs": [],
   "source": [
    "#shooting"
   ]
  },
  {
   "cell_type": "code",
   "execution_count": 26,
   "id": "6a29605e",
   "metadata": {
    "execution": {
     "iopub.execute_input": "2022-12-10T19:31:02.521818Z",
     "iopub.status.busy": "2022-12-10T19:31:02.521594Z",
     "iopub.status.idle": "2022-12-10T19:31:02.525761Z",
     "shell.execute_reply": "2022-12-10T19:31:02.525080Z"
    },
    "papermill": {
     "duration": 0.016674,
     "end_time": "2022-12-10T19:31:02.527451",
     "exception": false,
     "start_time": "2022-12-10T19:31:02.510777",
     "status": "completed"
    },
    "tags": []
   },
   "outputs": [],
   "source": [
    "player_shooting=fifa[['short_name','shooting']]"
   ]
  },
  {
   "cell_type": "code",
   "execution_count": 27,
   "id": "5a4e2abb",
   "metadata": {
    "execution": {
     "iopub.execute_input": "2022-12-10T19:31:02.548021Z",
     "iopub.status.busy": "2022-12-10T19:31:02.547781Z",
     "iopub.status.idle": "2022-12-10T19:31:02.558932Z",
     "shell.execute_reply": "2022-12-10T19:31:02.558240Z"
    },
    "papermill": {
     "duration": 0.023389,
     "end_time": "2022-12-10T19:31:02.560583",
     "exception": false,
     "start_time": "2022-12-10T19:31:02.537194",
     "status": "completed"
    },
    "tags": []
   },
   "outputs": [
    {
     "data": {
      "text/html": [
       "<div>\n",
       "<style scoped>\n",
       "    .dataframe tbody tr th:only-of-type {\n",
       "        vertical-align: middle;\n",
       "    }\n",
       "\n",
       "    .dataframe tbody tr th {\n",
       "        vertical-align: top;\n",
       "    }\n",
       "\n",
       "    .dataframe thead th {\n",
       "        text-align: right;\n",
       "    }\n",
       "</style>\n",
       "<table border=\"1\" class=\"dataframe\">\n",
       "  <thead>\n",
       "    <tr style=\"text-align: right;\">\n",
       "      <th></th>\n",
       "      <th>short_name</th>\n",
       "      <th>shooting</th>\n",
       "    </tr>\n",
       "  </thead>\n",
       "  <tbody>\n",
       "    <tr>\n",
       "      <th>1</th>\n",
       "      <td>Cristiano Ronaldo</td>\n",
       "      <td>93.0</td>\n",
       "    </tr>\n",
       "    <tr>\n",
       "      <th>0</th>\n",
       "      <td>L. Messi</td>\n",
       "      <td>92.0</td>\n",
       "    </tr>\n",
       "    <tr>\n",
       "      <th>12</th>\n",
       "      <td>H. Kane</td>\n",
       "      <td>91.0</td>\n",
       "    </tr>\n",
       "    <tr>\n",
       "      <th>17</th>\n",
       "      <td>S. Agüero</td>\n",
       "      <td>90.0</td>\n",
       "    </tr>\n",
       "    <tr>\n",
       "      <th>205</th>\n",
       "      <td>F. Quagliarella</td>\n",
       "      <td>89.0</td>\n",
       "    </tr>\n",
       "  </tbody>\n",
       "</table>\n",
       "</div>"
      ],
      "text/plain": [
       "            short_name  shooting\n",
       "1    Cristiano Ronaldo      93.0\n",
       "0             L. Messi      92.0\n",
       "12             H. Kane      91.0\n",
       "17           S. Agüero      90.0\n",
       "205    F. Quagliarella      89.0"
      ]
     },
     "execution_count": 27,
     "metadata": {},
     "output_type": "execute_result"
    }
   ],
   "source": [
    "player_shooting.sort_values(by=['shooting'],ascending=False).head()"
   ]
  },
  {
   "cell_type": "code",
   "execution_count": 28,
   "id": "22ecc91f",
   "metadata": {
    "execution": {
     "iopub.execute_input": "2022-12-10T19:31:02.582030Z",
     "iopub.status.busy": "2022-12-10T19:31:02.581375Z",
     "iopub.status.idle": "2022-12-10T19:31:02.590958Z",
     "shell.execute_reply": "2022-12-10T19:31:02.590427Z"
    },
    "papermill": {
     "duration": 0.021711,
     "end_time": "2022-12-10T19:31:02.592454",
     "exception": false,
     "start_time": "2022-12-10T19:31:02.570743",
     "status": "completed"
    },
    "tags": []
   },
   "outputs": [
    {
     "data": {
      "text/html": [
       "<div>\n",
       "<style scoped>\n",
       "    .dataframe tbody tr th:only-of-type {\n",
       "        vertical-align: middle;\n",
       "    }\n",
       "\n",
       "    .dataframe tbody tr th {\n",
       "        vertical-align: top;\n",
       "    }\n",
       "\n",
       "    .dataframe thead th {\n",
       "        text-align: right;\n",
       "    }\n",
       "</style>\n",
       "<table border=\"1\" class=\"dataframe\">\n",
       "  <thead>\n",
       "    <tr style=\"text-align: right;\">\n",
       "      <th></th>\n",
       "      <th>short_name</th>\n",
       "      <th>shooting</th>\n",
       "    </tr>\n",
       "  </thead>\n",
       "  <tbody>\n",
       "    <tr>\n",
       "      <th>1</th>\n",
       "      <td>Cristiano Ronaldo</td>\n",
       "      <td>93.0</td>\n",
       "    </tr>\n",
       "    <tr>\n",
       "      <th>0</th>\n",
       "      <td>L. Messi</td>\n",
       "      <td>92.0</td>\n",
       "    </tr>\n",
       "    <tr>\n",
       "      <th>12</th>\n",
       "      <td>H. Kane</td>\n",
       "      <td>91.0</td>\n",
       "    </tr>\n",
       "    <tr>\n",
       "      <th>17</th>\n",
       "      <td>S. Agüero</td>\n",
       "      <td>90.0</td>\n",
       "    </tr>\n",
       "    <tr>\n",
       "      <th>205</th>\n",
       "      <td>F. Quagliarella</td>\n",
       "      <td>89.0</td>\n",
       "    </tr>\n",
       "  </tbody>\n",
       "</table>\n",
       "</div>"
      ],
      "text/plain": [
       "            short_name  shooting\n",
       "1    Cristiano Ronaldo      93.0\n",
       "0             L. Messi      92.0\n",
       "12             H. Kane      91.0\n",
       "17           S. Agüero      90.0\n",
       "205    F. Quagliarella      89.0"
      ]
     },
     "execution_count": 28,
     "metadata": {},
     "output_type": "execute_result"
    }
   ],
   "source": [
    "player_shooting.sort_values(by=['shooting'],ascending=False).head()"
   ]
  },
  {
   "cell_type": "code",
   "execution_count": 29,
   "id": "5dff93cb",
   "metadata": {
    "execution": {
     "iopub.execute_input": "2022-12-10T19:31:02.613582Z",
     "iopub.status.busy": "2022-12-10T19:31:02.612933Z",
     "iopub.status.idle": "2022-12-10T19:31:02.615988Z",
     "shell.execute_reply": "2022-12-10T19:31:02.615459Z"
    },
    "papermill": {
     "duration": 0.014941,
     "end_time": "2022-12-10T19:31:02.617444",
     "exception": false,
     "start_time": "2022-12-10T19:31:02.602503",
     "status": "completed"
    },
    "tags": []
   },
   "outputs": [],
   "source": [
    "#defending"
   ]
  },
  {
   "cell_type": "code",
   "execution_count": 30,
   "id": "0ca6e37c",
   "metadata": {
    "execution": {
     "iopub.execute_input": "2022-12-10T19:31:02.638620Z",
     "iopub.status.busy": "2022-12-10T19:31:02.637909Z",
     "iopub.status.idle": "2022-12-10T19:31:02.643035Z",
     "shell.execute_reply": "2022-12-10T19:31:02.642246Z"
    },
    "papermill": {
     "duration": 0.01733,
     "end_time": "2022-12-10T19:31:02.644681",
     "exception": false,
     "start_time": "2022-12-10T19:31:02.627351",
     "status": "completed"
    },
    "tags": []
   },
   "outputs": [],
   "source": [
    "player_defending=fifa[['short_name','defending','nationality','club']]"
   ]
  },
  {
   "cell_type": "code",
   "execution_count": 31,
   "id": "36a11dc1",
   "metadata": {
    "execution": {
     "iopub.execute_input": "2022-12-10T19:31:02.665627Z",
     "iopub.status.busy": "2022-12-10T19:31:02.665378Z",
     "iopub.status.idle": "2022-12-10T19:31:02.677089Z",
     "shell.execute_reply": "2022-12-10T19:31:02.676329Z"
    },
    "papermill": {
     "duration": 0.023984,
     "end_time": "2022-12-10T19:31:02.678678",
     "exception": false,
     "start_time": "2022-12-10T19:31:02.654694",
     "status": "completed"
    },
    "tags": []
   },
   "outputs": [
    {
     "data": {
      "text/html": [
       "<div>\n",
       "<style scoped>\n",
       "    .dataframe tbody tr th:only-of-type {\n",
       "        vertical-align: middle;\n",
       "    }\n",
       "\n",
       "    .dataframe tbody tr th {\n",
       "        vertical-align: top;\n",
       "    }\n",
       "\n",
       "    .dataframe thead th {\n",
       "        text-align: right;\n",
       "    }\n",
       "</style>\n",
       "<table border=\"1\" class=\"dataframe\">\n",
       "  <thead>\n",
       "    <tr style=\"text-align: right;\">\n",
       "      <th></th>\n",
       "      <th>short_name</th>\n",
       "      <th>defending</th>\n",
       "      <th>nationality</th>\n",
       "      <th>club</th>\n",
       "    </tr>\n",
       "  </thead>\n",
       "  <tbody>\n",
       "    <tr>\n",
       "      <th>16</th>\n",
       "      <td>G. Chiellini</td>\n",
       "      <td>90.0</td>\n",
       "      <td>Italy</td>\n",
       "      <td>Juventus</td>\n",
       "    </tr>\n",
       "    <tr>\n",
       "      <th>7</th>\n",
       "      <td>V. van Dijk</td>\n",
       "      <td>90.0</td>\n",
       "      <td>Netherlands</td>\n",
       "      <td>Liverpool</td>\n",
       "    </tr>\n",
       "    <tr>\n",
       "      <th>11</th>\n",
       "      <td>K. Koulibaly</td>\n",
       "      <td>89.0</td>\n",
       "      <td>Senegal</td>\n",
       "      <td>Napoli</td>\n",
       "    </tr>\n",
       "    <tr>\n",
       "      <th>35</th>\n",
       "      <td>D. Godín</td>\n",
       "      <td>89.0</td>\n",
       "      <td>Uruguay</td>\n",
       "      <td>Inter</td>\n",
       "    </tr>\n",
       "    <tr>\n",
       "      <th>49</th>\n",
       "      <td>M. Hummels</td>\n",
       "      <td>89.0</td>\n",
       "      <td>Germany</td>\n",
       "      <td>Borussia Dortmund</td>\n",
       "    </tr>\n",
       "  </tbody>\n",
       "</table>\n",
       "</div>"
      ],
      "text/plain": [
       "      short_name  defending  nationality               club\n",
       "16  G. Chiellini       90.0        Italy           Juventus\n",
       "7    V. van Dijk       90.0  Netherlands          Liverpool\n",
       "11  K. Koulibaly       89.0      Senegal             Napoli\n",
       "35      D. Godín       89.0      Uruguay              Inter\n",
       "49    M. Hummels       89.0      Germany  Borussia Dortmund"
      ]
     },
     "execution_count": 31,
     "metadata": {},
     "output_type": "execute_result"
    }
   ],
   "source": [
    "player_defending.sort_values(by=['defending'],ascending=False).head()"
   ]
  },
  {
   "cell_type": "code",
   "execution_count": 32,
   "id": "25a8d08f",
   "metadata": {
    "execution": {
     "iopub.execute_input": "2022-12-10T19:31:02.700171Z",
     "iopub.status.busy": "2022-12-10T19:31:02.699893Z",
     "iopub.status.idle": "2022-12-10T19:31:02.704712Z",
     "shell.execute_reply": "2022-12-10T19:31:02.704074Z"
    },
    "papermill": {
     "duration": 0.017151,
     "end_time": "2022-12-10T19:31:02.706151",
     "exception": false,
     "start_time": "2022-12-10T19:31:02.689000",
     "status": "completed"
    },
    "tags": []
   },
   "outputs": [],
   "source": [
    "real_madrid=fifa[fifa['club']=='Real Madrid']"
   ]
  },
  {
   "cell_type": "code",
   "execution_count": 33,
   "id": "fdcb5fef",
   "metadata": {
    "execution": {
     "iopub.execute_input": "2022-12-10T19:31:02.728183Z",
     "iopub.status.busy": "2022-12-10T19:31:02.727508Z",
     "iopub.status.idle": "2022-12-10T19:31:02.748265Z",
     "shell.execute_reply": "2022-12-10T19:31:02.747514Z"
    },
    "papermill": {
     "duration": 0.033408,
     "end_time": "2022-12-10T19:31:02.749896",
     "exception": false,
     "start_time": "2022-12-10T19:31:02.716488",
     "status": "completed"
    },
    "tags": []
   },
   "outputs": [
    {
     "data": {
      "text/html": [
       "<div>\n",
       "<style scoped>\n",
       "    .dataframe tbody tr th:only-of-type {\n",
       "        vertical-align: middle;\n",
       "    }\n",
       "\n",
       "    .dataframe tbody tr th {\n",
       "        vertical-align: top;\n",
       "    }\n",
       "\n",
       "    .dataframe thead th {\n",
       "        text-align: right;\n",
       "    }\n",
       "</style>\n",
       "<table border=\"1\" class=\"dataframe\">\n",
       "  <thead>\n",
       "    <tr style=\"text-align: right;\">\n",
       "      <th></th>\n",
       "      <th>sofifa_id</th>\n",
       "      <th>player_url</th>\n",
       "      <th>short_name</th>\n",
       "      <th>long_name</th>\n",
       "      <th>age</th>\n",
       "      <th>dob</th>\n",
       "      <th>height_cm</th>\n",
       "      <th>weight_kg</th>\n",
       "      <th>nationality</th>\n",
       "      <th>club</th>\n",
       "      <th>...</th>\n",
       "      <th>lwb</th>\n",
       "      <th>ldm</th>\n",
       "      <th>cdm</th>\n",
       "      <th>rdm</th>\n",
       "      <th>rwb</th>\n",
       "      <th>lb</th>\n",
       "      <th>lcb</th>\n",
       "      <th>cb</th>\n",
       "      <th>rcb</th>\n",
       "      <th>rb</th>\n",
       "    </tr>\n",
       "  </thead>\n",
       "  <tbody>\n",
       "    <tr>\n",
       "      <th>4</th>\n",
       "      <td>183277</td>\n",
       "      <td>https://sofifa.com/player/183277/eden-hazard/2...</td>\n",
       "      <td>E. Hazard</td>\n",
       "      <td>Eden Hazard</td>\n",
       "      <td>28</td>\n",
       "      <td>1991-01-07</td>\n",
       "      <td>175</td>\n",
       "      <td>74</td>\n",
       "      <td>Belgium</td>\n",
       "      <td>Real Madrid</td>\n",
       "      <td>...</td>\n",
       "      <td>66+3</td>\n",
       "      <td>63+3</td>\n",
       "      <td>63+3</td>\n",
       "      <td>63+3</td>\n",
       "      <td>66+3</td>\n",
       "      <td>61+3</td>\n",
       "      <td>49+3</td>\n",
       "      <td>49+3</td>\n",
       "      <td>49+3</td>\n",
       "      <td>61+3</td>\n",
       "    </tr>\n",
       "    <tr>\n",
       "      <th>8</th>\n",
       "      <td>177003</td>\n",
       "      <td>https://sofifa.com/player/177003/luka-modric/2...</td>\n",
       "      <td>L. Modrić</td>\n",
       "      <td>Luka Modrić</td>\n",
       "      <td>33</td>\n",
       "      <td>1985-09-09</td>\n",
       "      <td>172</td>\n",
       "      <td>66</td>\n",
       "      <td>Croatia</td>\n",
       "      <td>Real Madrid</td>\n",
       "      <td>...</td>\n",
       "      <td>81+3</td>\n",
       "      <td>81+3</td>\n",
       "      <td>81+3</td>\n",
       "      <td>81+3</td>\n",
       "      <td>81+3</td>\n",
       "      <td>79+3</td>\n",
       "      <td>72+3</td>\n",
       "      <td>72+3</td>\n",
       "      <td>72+3</td>\n",
       "      <td>79+3</td>\n",
       "    </tr>\n",
       "    <tr>\n",
       "      <th>36</th>\n",
       "      <td>182521</td>\n",
       "      <td>https://sofifa.com/player/182521/toni-kroos/20...</td>\n",
       "      <td>T. Kroos</td>\n",
       "      <td>Toni Kroos</td>\n",
       "      <td>29</td>\n",
       "      <td>1990-01-04</td>\n",
       "      <td>183</td>\n",
       "      <td>76</td>\n",
       "      <td>Germany</td>\n",
       "      <td>Real Madrid</td>\n",
       "      <td>...</td>\n",
       "      <td>75+3</td>\n",
       "      <td>79+3</td>\n",
       "      <td>79+3</td>\n",
       "      <td>79+3</td>\n",
       "      <td>75+3</td>\n",
       "      <td>72+3</td>\n",
       "      <td>69+3</td>\n",
       "      <td>69+3</td>\n",
       "      <td>69+3</td>\n",
       "      <td>72+3</td>\n",
       "    </tr>\n",
       "    <tr>\n",
       "      <th>18</th>\n",
       "      <td>155862</td>\n",
       "      <td>https://sofifa.com/player/155862/sergio-ramos-...</td>\n",
       "      <td>Sergio Ramos</td>\n",
       "      <td>Sergio Ramos García</td>\n",
       "      <td>33</td>\n",
       "      <td>1986-03-30</td>\n",
       "      <td>184</td>\n",
       "      <td>82</td>\n",
       "      <td>Spain</td>\n",
       "      <td>Real Madrid</td>\n",
       "      <td>...</td>\n",
       "      <td>80+3</td>\n",
       "      <td>84+3</td>\n",
       "      <td>84+3</td>\n",
       "      <td>84+3</td>\n",
       "      <td>80+3</td>\n",
       "      <td>82+3</td>\n",
       "      <td>87+3</td>\n",
       "      <td>87+3</td>\n",
       "      <td>87+3</td>\n",
       "      <td>82+3</td>\n",
       "    </tr>\n",
       "    <tr>\n",
       "      <th>46</th>\n",
       "      <td>165153</td>\n",
       "      <td>https://sofifa.com/player/165153/karim-benzema...</td>\n",
       "      <td>K. Benzema</td>\n",
       "      <td>Karim Benzema</td>\n",
       "      <td>31</td>\n",
       "      <td>1987-12-19</td>\n",
       "      <td>185</td>\n",
       "      <td>81</td>\n",
       "      <td>France</td>\n",
       "      <td>Real Madrid</td>\n",
       "      <td>...</td>\n",
       "      <td>62+3</td>\n",
       "      <td>62+3</td>\n",
       "      <td>62+3</td>\n",
       "      <td>62+3</td>\n",
       "      <td>62+3</td>\n",
       "      <td>58+3</td>\n",
       "      <td>54+3</td>\n",
       "      <td>54+3</td>\n",
       "      <td>54+3</td>\n",
       "      <td>58+3</td>\n",
       "    </tr>\n",
       "  </tbody>\n",
       "</table>\n",
       "<p>5 rows × 104 columns</p>\n",
       "</div>"
      ],
      "text/plain": [
       "    sofifa_id                                         player_url  \\\n",
       "4      183277  https://sofifa.com/player/183277/eden-hazard/2...   \n",
       "8      177003  https://sofifa.com/player/177003/luka-modric/2...   \n",
       "36     182521  https://sofifa.com/player/182521/toni-kroos/20...   \n",
       "18     155862  https://sofifa.com/player/155862/sergio-ramos-...   \n",
       "46     165153  https://sofifa.com/player/165153/karim-benzema...   \n",
       "\n",
       "      short_name            long_name  age         dob  height_cm  weight_kg  \\\n",
       "4      E. Hazard          Eden Hazard   28  1991-01-07        175         74   \n",
       "8      L. Modrić          Luka Modrić   33  1985-09-09        172         66   \n",
       "36      T. Kroos           Toni Kroos   29  1990-01-04        183         76   \n",
       "18  Sergio Ramos  Sergio Ramos García   33  1986-03-30        184         82   \n",
       "46    K. Benzema        Karim Benzema   31  1987-12-19        185         81   \n",
       "\n",
       "   nationality         club  ...   lwb   ldm   cdm   rdm   rwb    lb   lcb  \\\n",
       "4      Belgium  Real Madrid  ...  66+3  63+3  63+3  63+3  66+3  61+3  49+3   \n",
       "8      Croatia  Real Madrid  ...  81+3  81+3  81+3  81+3  81+3  79+3  72+3   \n",
       "36     Germany  Real Madrid  ...  75+3  79+3  79+3  79+3  75+3  72+3  69+3   \n",
       "18       Spain  Real Madrid  ...  80+3  84+3  84+3  84+3  80+3  82+3  87+3   \n",
       "46      France  Real Madrid  ...  62+3  62+3  62+3  62+3  62+3  58+3  54+3   \n",
       "\n",
       "      cb   rcb    rb  \n",
       "4   49+3  49+3  61+3  \n",
       "8   72+3  72+3  79+3  \n",
       "36  69+3  69+3  72+3  \n",
       "18  87+3  87+3  82+3  \n",
       "46  54+3  54+3  58+3  \n",
       "\n",
       "[5 rows x 104 columns]"
      ]
     },
     "execution_count": 33,
     "metadata": {},
     "output_type": "execute_result"
    }
   ],
   "source": [
    "real_madrid.sort_values(by=['wage_eur'],ascending=False).head()"
   ]
  },
  {
   "cell_type": "code",
   "execution_count": 34,
   "id": "b70ca0b3",
   "metadata": {
    "execution": {
     "iopub.execute_input": "2022-12-10T19:31:02.772100Z",
     "iopub.status.busy": "2022-12-10T19:31:02.771844Z",
     "iopub.status.idle": "2022-12-10T19:31:02.792484Z",
     "shell.execute_reply": "2022-12-10T19:31:02.791806Z"
    },
    "papermill": {
     "duration": 0.033591,
     "end_time": "2022-12-10T19:31:02.794099",
     "exception": false,
     "start_time": "2022-12-10T19:31:02.760508",
     "status": "completed"
    },
    "tags": []
   },
   "outputs": [
    {
     "data": {
      "text/html": [
       "<div>\n",
       "<style scoped>\n",
       "    .dataframe tbody tr th:only-of-type {\n",
       "        vertical-align: middle;\n",
       "    }\n",
       "\n",
       "    .dataframe tbody tr th {\n",
       "        vertical-align: top;\n",
       "    }\n",
       "\n",
       "    .dataframe thead th {\n",
       "        text-align: right;\n",
       "    }\n",
       "</style>\n",
       "<table border=\"1\" class=\"dataframe\">\n",
       "  <thead>\n",
       "    <tr style=\"text-align: right;\">\n",
       "      <th></th>\n",
       "      <th>sofifa_id</th>\n",
       "      <th>player_url</th>\n",
       "      <th>short_name</th>\n",
       "      <th>long_name</th>\n",
       "      <th>age</th>\n",
       "      <th>dob</th>\n",
       "      <th>height_cm</th>\n",
       "      <th>weight_kg</th>\n",
       "      <th>nationality</th>\n",
       "      <th>club</th>\n",
       "      <th>...</th>\n",
       "      <th>lwb</th>\n",
       "      <th>ldm</th>\n",
       "      <th>cdm</th>\n",
       "      <th>rdm</th>\n",
       "      <th>rwb</th>\n",
       "      <th>lb</th>\n",
       "      <th>lcb</th>\n",
       "      <th>cb</th>\n",
       "      <th>rcb</th>\n",
       "      <th>rb</th>\n",
       "    </tr>\n",
       "  </thead>\n",
       "  <tbody>\n",
       "    <tr>\n",
       "      <th>100</th>\n",
       "      <td>173731</td>\n",
       "      <td>https://sofifa.com/player/173731/gareth-bale/2...</td>\n",
       "      <td>G. Bale</td>\n",
       "      <td>Gareth Frank Bale</td>\n",
       "      <td>29</td>\n",
       "      <td>1989-07-16</td>\n",
       "      <td>185</td>\n",
       "      <td>82</td>\n",
       "      <td>Wales</td>\n",
       "      <td>Real Madrid</td>\n",
       "      <td>...</td>\n",
       "      <td>72+3</td>\n",
       "      <td>69+3</td>\n",
       "      <td>69+3</td>\n",
       "      <td>69+3</td>\n",
       "      <td>72+3</td>\n",
       "      <td>70+3</td>\n",
       "      <td>66+3</td>\n",
       "      <td>66+3</td>\n",
       "      <td>66+3</td>\n",
       "      <td>70+3</td>\n",
       "    </tr>\n",
       "    <tr>\n",
       "      <th>106</th>\n",
       "      <td>198710</td>\n",
       "      <td>https://sofifa.com/player/198710/james-rodrigu...</td>\n",
       "      <td>J. Rodríguez</td>\n",
       "      <td>James David Rodríguez Rubio</td>\n",
       "      <td>27</td>\n",
       "      <td>1991-07-12</td>\n",
       "      <td>180</td>\n",
       "      <td>75</td>\n",
       "      <td>Colombia</td>\n",
       "      <td>Real Madrid</td>\n",
       "      <td>...</td>\n",
       "      <td>67+3</td>\n",
       "      <td>67+3</td>\n",
       "      <td>67+3</td>\n",
       "      <td>67+3</td>\n",
       "      <td>67+3</td>\n",
       "      <td>62+3</td>\n",
       "      <td>57+3</td>\n",
       "      <td>57+3</td>\n",
       "      <td>57+3</td>\n",
       "      <td>62+3</td>\n",
       "    </tr>\n",
       "    <tr>\n",
       "      <th>4</th>\n",
       "      <td>183277</td>\n",
       "      <td>https://sofifa.com/player/183277/eden-hazard/2...</td>\n",
       "      <td>E. Hazard</td>\n",
       "      <td>Eden Hazard</td>\n",
       "      <td>28</td>\n",
       "      <td>1991-01-07</td>\n",
       "      <td>175</td>\n",
       "      <td>74</td>\n",
       "      <td>Belgium</td>\n",
       "      <td>Real Madrid</td>\n",
       "      <td>...</td>\n",
       "      <td>66+3</td>\n",
       "      <td>63+3</td>\n",
       "      <td>63+3</td>\n",
       "      <td>63+3</td>\n",
       "      <td>66+3</td>\n",
       "      <td>61+3</td>\n",
       "      <td>49+3</td>\n",
       "      <td>49+3</td>\n",
       "      <td>49+3</td>\n",
       "      <td>61+3</td>\n",
       "    </tr>\n",
       "    <tr>\n",
       "      <th>46</th>\n",
       "      <td>165153</td>\n",
       "      <td>https://sofifa.com/player/165153/karim-benzema...</td>\n",
       "      <td>K. Benzema</td>\n",
       "      <td>Karim Benzema</td>\n",
       "      <td>31</td>\n",
       "      <td>1987-12-19</td>\n",
       "      <td>185</td>\n",
       "      <td>81</td>\n",
       "      <td>France</td>\n",
       "      <td>Real Madrid</td>\n",
       "      <td>...</td>\n",
       "      <td>62+3</td>\n",
       "      <td>62+3</td>\n",
       "      <td>62+3</td>\n",
       "      <td>62+3</td>\n",
       "      <td>62+3</td>\n",
       "      <td>58+3</td>\n",
       "      <td>54+3</td>\n",
       "      <td>54+3</td>\n",
       "      <td>54+3</td>\n",
       "      <td>58+3</td>\n",
       "    </tr>\n",
       "    <tr>\n",
       "      <th>161</th>\n",
       "      <td>232432</td>\n",
       "      <td>https://sofifa.com/player/232432/luka-jovic/20...</td>\n",
       "      <td>L. Jović</td>\n",
       "      <td>Luka Jović</td>\n",
       "      <td>21</td>\n",
       "      <td>1997-12-23</td>\n",
       "      <td>182</td>\n",
       "      <td>85</td>\n",
       "      <td>Serbia</td>\n",
       "      <td>Real Madrid</td>\n",
       "      <td>...</td>\n",
       "      <td>55+2</td>\n",
       "      <td>53+2</td>\n",
       "      <td>53+2</td>\n",
       "      <td>53+2</td>\n",
       "      <td>55+2</td>\n",
       "      <td>51+2</td>\n",
       "      <td>47+2</td>\n",
       "      <td>47+2</td>\n",
       "      <td>47+2</td>\n",
       "      <td>51+2</td>\n",
       "    </tr>\n",
       "  </tbody>\n",
       "</table>\n",
       "<p>5 rows × 104 columns</p>\n",
       "</div>"
      ],
      "text/plain": [
       "     sofifa_id                                         player_url  \\\n",
       "100     173731  https://sofifa.com/player/173731/gareth-bale/2...   \n",
       "106     198710  https://sofifa.com/player/198710/james-rodrigu...   \n",
       "4       183277  https://sofifa.com/player/183277/eden-hazard/2...   \n",
       "46      165153  https://sofifa.com/player/165153/karim-benzema...   \n",
       "161     232432  https://sofifa.com/player/232432/luka-jovic/20...   \n",
       "\n",
       "       short_name                    long_name  age         dob  height_cm  \\\n",
       "100       G. Bale            Gareth Frank Bale   29  1989-07-16        185   \n",
       "106  J. Rodríguez  James David Rodríguez Rubio   27  1991-07-12        180   \n",
       "4       E. Hazard                  Eden Hazard   28  1991-01-07        175   \n",
       "46     K. Benzema                Karim Benzema   31  1987-12-19        185   \n",
       "161      L. Jović                   Luka Jović   21  1997-12-23        182   \n",
       "\n",
       "     weight_kg nationality         club  ...   lwb   ldm   cdm   rdm   rwb  \\\n",
       "100         82       Wales  Real Madrid  ...  72+3  69+3  69+3  69+3  72+3   \n",
       "106         75    Colombia  Real Madrid  ...  67+3  67+3  67+3  67+3  67+3   \n",
       "4           74     Belgium  Real Madrid  ...  66+3  63+3  63+3  63+3  66+3   \n",
       "46          81      France  Real Madrid  ...  62+3  62+3  62+3  62+3  62+3   \n",
       "161         85      Serbia  Real Madrid  ...  55+2  53+2  53+2  53+2  55+2   \n",
       "\n",
       "       lb   lcb    cb   rcb    rb  \n",
       "100  70+3  66+3  66+3  66+3  70+3  \n",
       "106  62+3  57+3  57+3  57+3  62+3  \n",
       "4    61+3  49+3  49+3  49+3  61+3  \n",
       "46   58+3  54+3  54+3  54+3  58+3  \n",
       "161  51+2  47+2  47+2  47+2  51+2  \n",
       "\n",
       "[5 rows x 104 columns]"
      ]
     },
     "execution_count": 34,
     "metadata": {},
     "output_type": "execute_result"
    }
   ],
   "source": [
    "real_madrid.sort_values(by=['shooting'],ascending=False).head()"
   ]
  },
  {
   "cell_type": "code",
   "execution_count": 35,
   "id": "db82b066",
   "metadata": {
    "execution": {
     "iopub.execute_input": "2022-12-10T19:31:02.816570Z",
     "iopub.status.busy": "2022-12-10T19:31:02.816317Z",
     "iopub.status.idle": "2022-12-10T19:31:02.835583Z",
     "shell.execute_reply": "2022-12-10T19:31:02.834855Z"
    },
    "papermill": {
     "duration": 0.032296,
     "end_time": "2022-12-10T19:31:02.837167",
     "exception": false,
     "start_time": "2022-12-10T19:31:02.804871",
     "status": "completed"
    },
    "tags": []
   },
   "outputs": [
    {
     "data": {
      "text/html": [
       "<div>\n",
       "<style scoped>\n",
       "    .dataframe tbody tr th:only-of-type {\n",
       "        vertical-align: middle;\n",
       "    }\n",
       "\n",
       "    .dataframe tbody tr th {\n",
       "        vertical-align: top;\n",
       "    }\n",
       "\n",
       "    .dataframe thead th {\n",
       "        text-align: right;\n",
       "    }\n",
       "</style>\n",
       "<table border=\"1\" class=\"dataframe\">\n",
       "  <thead>\n",
       "    <tr style=\"text-align: right;\">\n",
       "      <th></th>\n",
       "      <th>sofifa_id</th>\n",
       "      <th>player_url</th>\n",
       "      <th>short_name</th>\n",
       "      <th>long_name</th>\n",
       "      <th>age</th>\n",
       "      <th>dob</th>\n",
       "      <th>height_cm</th>\n",
       "      <th>weight_kg</th>\n",
       "      <th>nationality</th>\n",
       "      <th>club</th>\n",
       "      <th>...</th>\n",
       "      <th>lwb</th>\n",
       "      <th>ldm</th>\n",
       "      <th>cdm</th>\n",
       "      <th>rdm</th>\n",
       "      <th>rwb</th>\n",
       "      <th>lb</th>\n",
       "      <th>lcb</th>\n",
       "      <th>cb</th>\n",
       "      <th>rcb</th>\n",
       "      <th>rb</th>\n",
       "    </tr>\n",
       "  </thead>\n",
       "  <tbody>\n",
       "    <tr>\n",
       "      <th>18</th>\n",
       "      <td>155862</td>\n",
       "      <td>https://sofifa.com/player/155862/sergio-ramos-...</td>\n",
       "      <td>Sergio Ramos</td>\n",
       "      <td>Sergio Ramos García</td>\n",
       "      <td>33</td>\n",
       "      <td>1986-03-30</td>\n",
       "      <td>184</td>\n",
       "      <td>82</td>\n",
       "      <td>Spain</td>\n",
       "      <td>Real Madrid</td>\n",
       "      <td>...</td>\n",
       "      <td>80+3</td>\n",
       "      <td>84+3</td>\n",
       "      <td>84+3</td>\n",
       "      <td>84+3</td>\n",
       "      <td>80+3</td>\n",
       "      <td>82+3</td>\n",
       "      <td>87+3</td>\n",
       "      <td>87+3</td>\n",
       "      <td>87+3</td>\n",
       "      <td>82+3</td>\n",
       "    </tr>\n",
       "    <tr>\n",
       "      <th>42</th>\n",
       "      <td>200145</td>\n",
       "      <td>https://sofifa.com/player/200145/carlos-henriq...</td>\n",
       "      <td>Casemiro</td>\n",
       "      <td>Carlos Henrique Venancio Casimiro</td>\n",
       "      <td>27</td>\n",
       "      <td>1992-02-23</td>\n",
       "      <td>185</td>\n",
       "      <td>84</td>\n",
       "      <td>Brazil</td>\n",
       "      <td>Real Madrid</td>\n",
       "      <td>...</td>\n",
       "      <td>78+3</td>\n",
       "      <td>84+3</td>\n",
       "      <td>84+3</td>\n",
       "      <td>84+3</td>\n",
       "      <td>78+3</td>\n",
       "      <td>79+3</td>\n",
       "      <td>84+3</td>\n",
       "      <td>84+3</td>\n",
       "      <td>84+3</td>\n",
       "      <td>79+3</td>\n",
       "    </tr>\n",
       "    <tr>\n",
       "      <th>76</th>\n",
       "      <td>201535</td>\n",
       "      <td>https://sofifa.com/player/201535/raphael-varan...</td>\n",
       "      <td>R. Varane</td>\n",
       "      <td>Raphaël Varane</td>\n",
       "      <td>26</td>\n",
       "      <td>1993-04-25</td>\n",
       "      <td>191</td>\n",
       "      <td>81</td>\n",
       "      <td>France</td>\n",
       "      <td>Real Madrid</td>\n",
       "      <td>...</td>\n",
       "      <td>74+3</td>\n",
       "      <td>79+3</td>\n",
       "      <td>79+3</td>\n",
       "      <td>79+3</td>\n",
       "      <td>74+3</td>\n",
       "      <td>77+3</td>\n",
       "      <td>83+3</td>\n",
       "      <td>83+3</td>\n",
       "      <td>83+3</td>\n",
       "      <td>77+3</td>\n",
       "    </tr>\n",
       "    <tr>\n",
       "      <th>94</th>\n",
       "      <td>204963</td>\n",
       "      <td>https://sofifa.com/player/204963/daniel-carvaj...</td>\n",
       "      <td>Carvajal</td>\n",
       "      <td>Daniel Carvajal Ramos</td>\n",
       "      <td>27</td>\n",
       "      <td>1992-01-11</td>\n",
       "      <td>173</td>\n",
       "      <td>73</td>\n",
       "      <td>Spain</td>\n",
       "      <td>Real Madrid</td>\n",
       "      <td>...</td>\n",
       "      <td>83+3</td>\n",
       "      <td>82+3</td>\n",
       "      <td>82+3</td>\n",
       "      <td>82+3</td>\n",
       "      <td>83+3</td>\n",
       "      <td>83+3</td>\n",
       "      <td>80+3</td>\n",
       "      <td>80+3</td>\n",
       "      <td>80+3</td>\n",
       "      <td>83+3</td>\n",
       "    </tr>\n",
       "    <tr>\n",
       "      <th>332</th>\n",
       "      <td>240130</td>\n",
       "      <td>https://sofifa.com/player/240130/eder-gabriel-...</td>\n",
       "      <td>Éder Militão</td>\n",
       "      <td>Éder Gabriel Militão</td>\n",
       "      <td>21</td>\n",
       "      <td>1998-01-18</td>\n",
       "      <td>186</td>\n",
       "      <td>78</td>\n",
       "      <td>Brazil</td>\n",
       "      <td>Real Madrid</td>\n",
       "      <td>...</td>\n",
       "      <td>78+2</td>\n",
       "      <td>76+2</td>\n",
       "      <td>76+2</td>\n",
       "      <td>76+2</td>\n",
       "      <td>78+2</td>\n",
       "      <td>78+2</td>\n",
       "      <td>79+2</td>\n",
       "      <td>79+2</td>\n",
       "      <td>79+2</td>\n",
       "      <td>78+2</td>\n",
       "    </tr>\n",
       "  </tbody>\n",
       "</table>\n",
       "<p>5 rows × 104 columns</p>\n",
       "</div>"
      ],
      "text/plain": [
       "     sofifa_id                                         player_url  \\\n",
       "18      155862  https://sofifa.com/player/155862/sergio-ramos-...   \n",
       "42      200145  https://sofifa.com/player/200145/carlos-henriq...   \n",
       "76      201535  https://sofifa.com/player/201535/raphael-varan...   \n",
       "94      204963  https://sofifa.com/player/204963/daniel-carvaj...   \n",
       "332     240130  https://sofifa.com/player/240130/eder-gabriel-...   \n",
       "\n",
       "       short_name                          long_name  age         dob  \\\n",
       "18   Sergio Ramos                Sergio Ramos García   33  1986-03-30   \n",
       "42       Casemiro  Carlos Henrique Venancio Casimiro   27  1992-02-23   \n",
       "76      R. Varane                     Raphaël Varane   26  1993-04-25   \n",
       "94       Carvajal              Daniel Carvajal Ramos   27  1992-01-11   \n",
       "332  Éder Militão               Éder Gabriel Militão   21  1998-01-18   \n",
       "\n",
       "     height_cm  weight_kg nationality         club  ...   lwb   ldm   cdm  \\\n",
       "18         184         82       Spain  Real Madrid  ...  80+3  84+3  84+3   \n",
       "42         185         84      Brazil  Real Madrid  ...  78+3  84+3  84+3   \n",
       "76         191         81      France  Real Madrid  ...  74+3  79+3  79+3   \n",
       "94         173         73       Spain  Real Madrid  ...  83+3  82+3  82+3   \n",
       "332        186         78      Brazil  Real Madrid  ...  78+2  76+2  76+2   \n",
       "\n",
       "      rdm   rwb    lb   lcb    cb   rcb    rb  \n",
       "18   84+3  80+3  82+3  87+3  87+3  87+3  82+3  \n",
       "42   84+3  78+3  79+3  84+3  84+3  84+3  79+3  \n",
       "76   79+3  74+3  77+3  83+3  83+3  83+3  77+3  \n",
       "94   82+3  83+3  83+3  80+3  80+3  80+3  83+3  \n",
       "332  76+2  78+2  78+2  79+2  79+2  79+2  78+2  \n",
       "\n",
       "[5 rows x 104 columns]"
      ]
     },
     "execution_count": 35,
     "metadata": {},
     "output_type": "execute_result"
    }
   ],
   "source": [
    "real_madrid.sort_values(by=['defending'],ascending=False).head()"
   ]
  },
  {
   "cell_type": "code",
   "execution_count": 36,
   "id": "6ef3d815",
   "metadata": {
    "execution": {
     "iopub.execute_input": "2022-12-10T19:31:02.860519Z",
     "iopub.status.busy": "2022-12-10T19:31:02.860131Z",
     "iopub.status.idle": "2022-12-10T19:31:02.866493Z",
     "shell.execute_reply": "2022-12-10T19:31:02.865777Z"
    },
    "papermill": {
     "duration": 0.019735,
     "end_time": "2022-12-10T19:31:02.867940",
     "exception": false,
     "start_time": "2022-12-10T19:31:02.848205",
     "status": "completed"
    },
    "tags": []
   },
   "outputs": [
    {
     "data": {
      "text/plain": [
       "Spain                 13\n",
       "Brazil                 6\n",
       "France                 3\n",
       "Belgium                2\n",
       "Croatia                1\n",
       "Germany                1\n",
       "Costa Rica             1\n",
       "Wales                  1\n",
       "Colombia               1\n",
       "Serbia                 1\n",
       "Dominican Republic     1\n",
       "Uruguay                1\n",
       "Japan                  1\n",
       "Name: nationality, dtype: int64"
      ]
     },
     "execution_count": 36,
     "metadata": {},
     "output_type": "execute_result"
    }
   ],
   "source": [
    "real_madrid['nationality'].value_counts()"
   ]
  },
  {
   "cell_type": "code",
   "execution_count": null,
   "id": "7beb636e",
   "metadata": {
    "papermill": {
     "duration": 0.010899,
     "end_time": "2022-12-10T19:31:02.889839",
     "exception": false,
     "start_time": "2022-12-10T19:31:02.878940",
     "status": "completed"
    },
    "tags": []
   },
   "outputs": [],
   "source": []
  },
  {
   "cell_type": "code",
   "execution_count": null,
   "id": "accb0e9b",
   "metadata": {
    "papermill": {
     "duration": 0.011152,
     "end_time": "2022-12-10T19:31:02.912177",
     "exception": false,
     "start_time": "2022-12-10T19:31:02.901025",
     "status": "completed"
    },
    "tags": []
   },
   "outputs": [],
   "source": []
  }
 ],
 "metadata": {
  "kernelspec": {
   "display_name": "Python 3",
   "language": "python",
   "name": "python3"
  },
  "language_info": {
   "codemirror_mode": {
    "name": "ipython",
    "version": 3
   },
   "file_extension": ".py",
   "mimetype": "text/x-python",
   "name": "python",
   "nbconvert_exporter": "python",
   "pygments_lexer": "ipython3",
   "version": "3.7.12"
  },
  "papermill": {
   "default_parameters": {},
   "duration": 9.178337,
   "end_time": "2022-12-10T19:31:03.440931",
   "environment_variables": {},
   "exception": null,
   "input_path": "__notebook__.ipynb",
   "output_path": "__notebook__.ipynb",
   "parameters": {},
   "start_time": "2022-12-10T19:30:54.262594",
   "version": "2.3.4"
  }
 },
 "nbformat": 4,
 "nbformat_minor": 5
}
